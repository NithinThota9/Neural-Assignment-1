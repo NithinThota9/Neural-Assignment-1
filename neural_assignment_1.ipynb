{
  "nbformat": 4,
  "nbformat_minor": 0,
  "metadata": {
    "colab": {
      "provenance": []
    },
    "kernelspec": {
      "name": "python3",
      "display_name": "Python 3"
    },
    "language_info": {
      "name": "python"
    }
  },
  "cells": [
    {
      "cell_type": "code",
      "execution_count": null,
      "metadata": {
        "id": "ZPbaDjuTmVDG"
      },
      "outputs": [],
      "source": [
        "#Nithin Thota\n",
        "#700764916\n",
        "#Neural Networks Assignment 1"
      ]
    },
    {
      "cell_type": "code",
      "source": [
        "#1 Full Name Code and Alternative Strings\n",
        "def fullname(first_name, last_name):\n",
        "    return first_name + \" \" + last_name\n",
        "\n",
        "def string_alternative(input_string):\n",
        "    return input_string[::2]\n",
        "\n",
        "first_name = input(\"Enter your first name: \")\n",
        "last_name = input(\"Enter your last name: \")\n",
        "\n",
        "full_name = fullname(first_name, last_name)\n",
        "print(\"Full Name:\", full_name)\n",
        "\n",
        "alternate_chars = string_alternative(full_name)\n",
        "print(\"String Alternative:\", alternate_chars)\n"
      ],
      "metadata": {
        "colab": {
          "base_uri": "https://localhost:8080/"
        },
        "id": "lYoETmdvmmsi",
        "outputId": "66f44527-da35-4f35-f980-71ef2660dc25"
      },
      "execution_count": 1,
      "outputs": [
        {
          "output_type": "stream",
          "name": "stdout",
          "text": [
            "Enter your first name: Nithin\n",
            "Enter your last name: Thota\n",
            "Full Name: Nithin Thota\n",
            "String Alternative: Nti ht\n"
          ]
        }
      ]
    },
    {
      "cell_type": "code",
      "source": [
        "#Word Count in a file\n",
        "with open(\"input.txt\", \"r\") as infile:\n",
        "    lines = infile.readlines()\n",
        "\n",
        "word_count = {}\n",
        "for line in lines:\n",
        "    words = line.split()\n",
        "    for word in words:\n",
        "        word_count[word] = word_count.get(word, 0) + 1\n",
        "\n",
        "with open(\"output.txt\", \"w\") as outfile:\n",
        "    for word, count in word_count.items():\n",
        "        outfile.write(word + \": \" + str(count) + \"\\n\")\n"
      ],
      "metadata": {
        "id": "z3Gr3DzPm_Xv"
      },
      "execution_count": 2,
      "outputs": []
    },
    {
      "cell_type": "code",
      "source": [
        "#Height Conversion using Nested Loops\n",
        "heights_in_inches = [60, 65, 70, 75]\n",
        "heights_in_cm = []\n",
        "for height in heights_in_inches:\n",
        "    heights_in_cm.append(round(height * 2.54, 2))\n",
        "print(heights_in_cm)\n"
      ],
      "metadata": {
        "colab": {
          "base_uri": "https://localhost:8080/"
        },
        "id": "3y1SFe3upHt1",
        "outputId": "2b419936-646e-4d08-bab6-22caaa77d0de"
      },
      "execution_count": 3,
      "outputs": [
        {
          "output_type": "stream",
          "name": "stdout",
          "text": [
            "[152.4, 165.1, 177.8, 190.5]\n"
          ]
        }
      ]
    },
    {
      "cell_type": "code",
      "source": [
        "#Height Conversion using List Comprehension\n",
        "heights_in_inches = [60, 65, 70, 75]\n",
        "heights_in_cm = [round(height * 2.54, 2) for height in heights_in_inches]\n",
        "print(heights_in_cm)\n"
      ],
      "metadata": {
        "colab": {
          "base_uri": "https://localhost:8080/"
        },
        "id": "N3-OHlqxpTD2",
        "outputId": "be1458c2-21ae-43b5-98df-05fb2a005669"
      },
      "execution_count": 4,
      "outputs": [
        {
          "output_type": "stream",
          "name": "stdout",
          "text": [
            "[152.4, 165.1, 177.8, 190.5]\n"
          ]
        }
      ]
    }
  ]
}